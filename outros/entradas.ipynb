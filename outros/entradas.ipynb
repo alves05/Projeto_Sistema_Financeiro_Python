{
 "cells": [
  {
   "cell_type": "code",
   "execution_count": 13,
   "metadata": {},
   "outputs": [],
   "source": [
    "import csv\n",
    "from datetime import datetime\n",
    "import datetime\n",
    "import random\n",
    "import os"
   ]
  },
  {
   "cell_type": "code",
   "execution_count": 17,
   "metadata": {},
   "outputs": [],
   "source": [
    "def Entradas(tipo=str,valor=float,historico= str, taxa=\"\"):\n",
    "\n",
    "  \"\"\"\n",
    "    Registra uma entrada no arquivo CSV 'base.csv'.\n",
    "\n",
    "    Parametros:\n",
    "    - tipo (str): Tipo da transação ('despesa', 'receita', 'investimento').\n",
    "    - valor (float): Valor da transação.\n",
    "    - historico (str): Descrição da transação.\n",
    "    - taxa (str): Taxa associada à transação, utilizada somente no \"invesimento\"\n",
    "\n",
    "    Returns:\n",
    "    - list: Lista atualizada com as entradas do arquivo CSV.\n",
    "    \"\"\"\n",
    "\n",
    "\n",
    "  with open('base.csv', 'r') as arquivo: #abre o csv como leitor\n",
    "        leitor = csv.reader(arquivo, delimiter=';')\n",
    "        movimentacao = list(leitor)\n",
    "\n",
    "#cria as variaveis dos dados\n",
    "\n",
    "  indice= len(movimentacao)   \n",
    "  data = datetime.date.today().strftime(\"%Y-%m-%d\")\n",
    "  rendimento=0\n",
    "  valor_corigido= lambda valor: valor*-1 if tipo == \"despesa\" else valor #ajustando o sinal do valor\n",
    "  if tipo == \"investimento\":\n",
    "    montante= valor\n",
    "    rendimento=0\n",
    "  else:\n",
    "    montante= \"\"\n",
    "    rendimento= \"\"\n",
    "\n",
    "#variavel no formato de lista para a inclusao \n",
    "  entrada_linha= [str(indice), str(int(data.split('-')[2])), str(int(data.split('-')[1])), str(int(data.split('-')[0])),tipo, str(valor_corigido(valor)), historico, str(taxa), str(montante), str(rendimento)]\n",
    "\n",
    "  movimentacao.append(entrada_linha)\n",
    "#abre o csv como modo de gravação\n",
    "  with open('base.csv', 'a', newline='') as arquivo:\n",
    "    escritor = csv.writer(arquivo, delimiter)\n",
    "    escritor.writerow(entrada_linha) #grava a linha no csv\n",
    "\n",
    "  arquivo.close()\n",
    "  \n",
    "  return movimentacao  "
   ]
  }
 ],
 "metadata": {
  "kernelspec": {
   "display_name": "Python 3",
   "language": "python",
   "name": "python3"
  },
  "language_info": {
   "codemirror_mode": {
    "name": "ipython",
    "version": 3
   },
   "file_extension": ".py",
   "mimetype": "text/x-python",
   "name": "python",
   "nbconvert_exporter": "python",
   "pygments_lexer": "ipython3",
   "version": "3.12.0"
  }
 },
 "nbformat": 4,
 "nbformat_minor": 2
}
